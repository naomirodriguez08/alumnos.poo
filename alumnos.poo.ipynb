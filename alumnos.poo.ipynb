{
 "cells": [
  {
   "cell_type": "code",
   "execution_count": 2,
   "id": "f8138474",
   "metadata": {},
   "outputs": [
    {
     "name": "stdout",
     "output_type": "stream",
     "text": [
      "Mayra Naomi Rodriguez esta inscrito. \n",
      "Jose Jose no se encuentra en asesorias. \n"
     ]
    }
   ],
   "source": [
    "class ALUMNO ():\n",
    "    nombre=\"Mayra Naomi Rodriguez\"\n",
    "    edad= 17\n",
    "    peso= 60\n",
    "    promedio= 10\n",
    "\n",
    "    def inscripcion(self):\n",
    "        print(f\"{self.nombre} esta inscrito. \")\n",
    "\n",
    "\n",
    "\n",
    "    def asesorias(self):\n",
    "        print(f\"{self.nombre} no se encuentra en asesorias. \")\n",
    "\n",
    "\n",
    "alumno = ALUMNO()\n",
    "alumno.inscripcion()\n",
    "\n",
    "alumno.nombre=\"Jose Jose\"\n",
    "alumno.asesorias()\n",
    "\n"
   ]
  },
  {
   "cell_type": "code",
   "execution_count": null,
   "id": "2998a533",
   "metadata": {},
   "outputs": [],
   "source": [
    " "
   ]
  }
 ],
 "metadata": {
  "kernelspec": {
   "display_name": "base",
   "language": "python",
   "name": "python3"
  },
  "language_info": {
   "codemirror_mode": {
    "name": "ipython",
    "version": 3
   },
   "file_extension": ".py",
   "mimetype": "text/x-python",
   "name": "python",
   "nbconvert_exporter": "python",
   "pygments_lexer": "ipython3",
   "version": "3.12.4"
  }
 },
 "nbformat": 4,
 "nbformat_minor": 5
}
